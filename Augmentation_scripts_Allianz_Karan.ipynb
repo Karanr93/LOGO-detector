{
  "cells": [
    {
      "cell_type": "code",
      "execution_count": null,
      "metadata": {
        "id": "VhglM1oqqJsm"
      },
      "outputs": [],
      "source": [
        "import cv2\n",
        "from skimage.exposure import rescale_intensity\n",
        "from skimage.segmentation import slic\n",
        "from skimage.util import img_as_float\n",
        "from skimage import io\n",
        "import numpy as np\n"
      ]
    },
    {
      "cell_type": "code",
      "execution_count": null,
      "metadata": {
        "id": "fotAGxEGqJsq"
      },
      "outputs": [],
      "source": [
        "import os\n",
        "import glob \n",
        "os.chdir(r\"/content/\")"
      ]
    },
    {
      "cell_type": "code",
      "execution_count": null,
      "metadata": {
        "id": "O-LQm25OqJsr"
      },
      "outputs": [],
      "source": [
        "#give the path to your output folder\n",
        "Folder_name=\"Augmented-full-final\"\n",
        "Extension=\".jpg\""
      ]
    },
    {
      "cell_type": "code",
      "execution_count": null,
      "metadata": {
        "id": "-LZFh4-EqJsr"
      },
      "outputs": [],
      "source": [
        "#RESIZE\n",
        "def resize_image(image,w,h):\n",
        "    image=cv2.resize(image,(w,h))\n",
        "    cv2.imwrite(Folder_name+\"/Resize-\"+str(w)+\"*\"+str(h)+Extension, image)"
      ]
    },
    {
      "cell_type": "code",
      "execution_count": null,
      "metadata": {
        "id": "iqbVGFQuqJss"
      },
      "outputs": [],
      "source": [
        "#crop\n",
        "def crop_image(image,y1,y2,x1,x2):\n",
        "    image=image[y1:y2,x1:x2]\n",
        "    cv2.imwrite(Folder_name+\"/Crop-\"+str(x1)+str(x2)+\"*\"+str(y1)+str(y2)+Extension, image)"
      ]
    },
    {
      "cell_type": "code",
      "execution_count": null,
      "metadata": {
        "id": "JaJ73OSqqJst"
      },
      "outputs": [],
      "source": [
        "def padding_image(image,topBorder,bottomBorder,leftBorder,rightBorder,color_of_border=[0,0,0]):\n",
        "    image = cv2.copyMakeBorder(image,topBorder,bottomBorder,leftBorder,\n",
        "        rightBorder,cv2.BORDER_CONSTANT,value=color_of_border)\n",
        "    cv2.imwrite(Folder_name + \"/padd-\" + str(topBorder) + str(bottomBorder) + \"*\" + str(leftBorder) + str(rightBorder) + Extension, image)"
      ]
    },
    {
      "cell_type": "code",
      "execution_count": null,
      "metadata": {
        "id": "LwzjRuBqqJsu"
      },
      "outputs": [],
      "source": [
        "def flip_image(image,dir):\n",
        "    image = cv2.flip(image, dir)\n",
        "    cv2.imwrite(Folder_name + \"/flip-\" + str(dir)+Extension, image)"
      ]
    },
    {
      "cell_type": "code",
      "execution_count": null,
      "metadata": {
        "id": "GEWUxRCDqJsv"
      },
      "outputs": [],
      "source": [
        "def superpixel_image(image,segments):\n",
        "    seg=segments\n",
        "\n",
        "    def segment_colorfulness(image, mask):\n",
        "        # split the image into its respective RGB components, then mask\n",
        "        # each of the individual RGB channels so we can compute\n",
        "        # statistics only for the masked region\n",
        "        (B, G, R) = cv2.split(image.astype(\"float\"))\n",
        "        R = np.ma.masked_array(R, mask=mask)\n",
        "        G = np.ma.masked_array(B, mask=mask)\n",
        "        B = np.ma.masked_array(B, mask=mask)\n",
        "\n",
        "        # compute rg = R - G\n",
        "        rg = np.absolute(R - G)\n",
        "\n",
        "        # compute yb = 0.5 * (R + G) - B\n",
        "        yb = np.absolute(0.5 * (R + G) - B)\n",
        "\n",
        "        # compute the mean and standard deviation of both `rg` and `yb`,\n",
        "        # then combine them\n",
        "        stdRoot = np.sqrt((rg.std() ** 2) + (yb.std() ** 2))\n",
        "        meanRoot = np.sqrt((rg.mean() ** 2) + (yb.mean() ** 2))\n",
        "\n",
        "        # derive the \"colorfulness\" metric and return it\n",
        "        return stdRoot + (0.3 * meanRoot)\n",
        "\n",
        "    orig = cv2.imread(image)\n",
        "    vis = np.zeros(orig.shape[:2], dtype=\"float\")\n",
        "\n",
        "    # load the image and apply SLIC superpixel segmentation to it via\n",
        "    # scikit-image\n",
        "    image = io.imread(image)\n",
        "    segments = slic(img_as_float(image), n_segments=segments,\n",
        "                    slic_zero=True)\n",
        "    for v in np.unique(segments):\n",
        "        # construct a mask for the segment so we can compute image\n",
        "        # statistics for *only* the masked region\n",
        "        mask = np.ones(image.shape[:2])\n",
        "        mask[segments == v] = 0\n",
        "\n",
        "        # compute the superpixel colorfulness, then update the\n",
        "        # visualization array\n",
        "        C = segment_colorfulness(orig, mask)\n",
        "        vis[segments == v] = C\n",
        "    # scale the visualization image from an unrestricted floating point\n",
        "    # to unsigned 8-bit integer array so we can use it with OpenCV and\n",
        "    # display it to our screen\n",
        "    vis = rescale_intensity(vis, out_range=(0, 255)).astype(\"uint8\")\n",
        "\n",
        "    # overlay the superpixel colorfulness visualization on the original\n",
        "    # image\n",
        "    alpha = 0.6\n",
        "    overlay = np.dstack([vis] * 3)\n",
        "    output = orig.copy()\n",
        "    cv2.addWeighted(overlay, alpha, output, 1 - alpha, 0, output)\n",
        "    # cv2.imshow(\"Visualization\", vis)\n",
        "    cv2.imwrite(Folder_name + \"/superpixels-\" + str(seg) + Extension, output)"
      ]
    },
    {
      "cell_type": "code",
      "execution_count": null,
      "metadata": {
        "id": "LN2Y83UUqJsx"
      },
      "outputs": [],
      "source": [
        "def invert_image(image,channel):\n",
        "    # image=cv2.bitwise_not(image)\n",
        "    image=(channel-image)\n",
        "    cv2.imwrite(Folder_name + \"/invert-\"+str(channel)+Extension, image)"
      ]
    },
    {
      "cell_type": "code",
      "execution_count": null,
      "metadata": {
        "id": "qmTwAVCGqJsy"
      },
      "outputs": [],
      "source": [
        "def add_light(image, gamma=1.0):\n",
        "    invGamma = 1.0 / gamma\n",
        "    table = np.array([((i / 255.0) ** invGamma) * 255\n",
        "                      for i in np.arange(0, 256)]).astype(\"uint8\")\n",
        "\n",
        "    image=cv2.LUT(image, table)\n",
        "    if gamma>=1:\n",
        "        cv2.imwrite(Folder_name + \"/light-\"+str(gamma)+Extension, image)\n",
        "    else:\n",
        "        cv2.imwrite(Folder_name + \"/dark-\" + str(gamma) + Extension, image)"
      ]
    },
    {
      "cell_type": "code",
      "execution_count": null,
      "metadata": {
        "id": "JMn2dDiBqJsz"
      },
      "outputs": [],
      "source": [
        "def add_light_color(image, color, gamma=1.0):\n",
        "    invGamma = 1.0 / gamma\n",
        "    image = (color - image)\n",
        "    table = np.array([((i / 255.0) ** invGamma) * 255\n",
        "                      for i in np.arange(0, 256)]).astype(\"uint8\")\n",
        "\n",
        "    image=cv2.LUT(image, table)\n",
        "    if gamma>=1:\n",
        "        cv2.imwrite(Folder_name + \"/light_color-\"+str(gamma)+Extension, image)\n",
        "    else:\n",
        "        cv2.imwrite(Folder_name + \"/dark_color\" + str(gamma) + Extension, image)"
      ]
    },
    {
      "cell_type": "code",
      "execution_count": null,
      "metadata": {
        "id": "PZwVxt8TqJsz"
      },
      "outputs": [],
      "source": [
        "def saturation_image(image,saturation):\n",
        "    image = cv2.cvtColor(image, cv2.COLOR_BGR2HSV)\n",
        "\n",
        "    v = image[:, :, 2]\n",
        "    v = np.where(v <= 255 - saturation, v + saturation, 255)\n",
        "    image[:, :, 2] = v\n",
        "\n",
        "    image = cv2.cvtColor(image, cv2.COLOR_HSV2BGR)\n",
        "    cv2.imwrite(Folder_name + \"/saturation-\" + str(saturation) + Extension, image)"
      ]
    },
    {
      "cell_type": "code",
      "execution_count": null,
      "metadata": {
        "id": "PKDisLqQqJs0"
      },
      "outputs": [],
      "source": [
        "def hue_image(image,saturation):\n",
        "    image = cv2.cvtColor(image, cv2.COLOR_BGR2HSV)\n",
        "\n",
        "    v = image[:, :, 2]\n",
        "    v = np.where(v <= 255 + saturation, v - saturation, 255)\n",
        "    image[:, :, 2] = v\n",
        "\n",
        "    image = cv2.cvtColor(image, cv2.COLOR_HSV2BGR)\n",
        "    cv2.imwrite(Folder_name + \"/hue-\" + str(saturation) + Extension, image)"
      ]
    },
    {
      "cell_type": "code",
      "source": [
        "from google.colab.patches import cv2_imshow"
      ],
      "metadata": {
        "id": "C9Ch6fPp1gYb"
      },
      "execution_count": null,
      "outputs": []
    },
    {
      "cell_type": "code",
      "source": [
        "#give the path to your dataset\n",
        "\n",
        "img_dir = \"/content/dataset/\" # Enter Directory of all images  \n",
        "data_path = os.path.join(img_dir,'*g') \n",
        "files = glob.glob(data_path) \n",
        "data=[]\n",
        "for f1 in files: \n",
        "    image = cv2.imread(f1)\n",
        "    #cv2_imshow(image)\n",
        "    data.append(image)"
      ],
      "metadata": {
        "id": "bNajBR4jq95K"
      },
      "execution_count": null,
      "outputs": []
    },
    {
      "cell_type": "code",
      "source": [
        "for f1 in data: \n",
        "    image = cv2.imread(f1)\n",
        "    resize_image(image,450,400)\n",
        "    crop_image(image,100,400,0,350)#(y1,y2,x1,x2)(bottom,top,left,right)\n",
        "    crop_image(image,100,400,100,450)#(y1,y2,x1,x2)(bottom,top,left,right)\n",
        "    crop_image(image,0,300,0,350)#(y1,y2,x1,x2)(bottom,top,left,right)\n",
        "    crop_image(image,0,300,100,450)#(y1,y2,x1,x2)(bottom,top,left,right)\n",
        "    crop_image(image,100,300,100,350)#(y1,y2,x1,x2)(bottom,top,left,right)\n",
        "\n",
        "    padding_image(image,100,0,0,0)#(y1,y2,x1,x2)(bottom,top,left,right)\n",
        "    padding_image(image,0,100,0,0)#(y1,y2,x1,x2)(bottom,top,left,right)\n",
        "    padding_image(image,0,0,100,0)#(y1,y2,x1,x2)(bottom,top,left,right)\n",
        "    padding_image(image,0,0,0,100)#(y1,y2,x1,x2)(bottom,top,left,right)\n",
        "    padding_image(image,100,100,100,100)#(y1,y2,x1,x2)(bottom,top,left,right)\n",
        "\n",
        "    flip_image(image,0)#horizontal\n",
        "    flip_image(image,1)#vertical\n",
        "    flip_image(image,-1)#both\n",
        "\n",
        "    #superpixel_image(image_file,100)\n",
        "    #superpixel_image(image_file,50)\n",
        "\n",
        "    invert_image(image,255)\n",
        "    invert_image(image,200)\n",
        "    invert_image(image,150)\n",
        "    invert_image(image,100)\n",
        "    invert_image(image,50)\n",
        "\n",
        "    add_light(image,1.5)\n",
        "    add_light(image,2.0)\n",
        "    add_light(image,2.5)\n",
        "    add_light(image,3.0)\n",
        "    add_light(image,4.0)\n",
        "    add_light(image,5.0)\n",
        "    add_light(image,0.7)\n",
        "    add_light(image,0.4)\n",
        "    add_light(image,0.3)\n",
        "    add_light(image,0.1)\n",
        "\n",
        "    add_light_color(image,255,1.5)\n",
        "    add_light_color(image,200,2.0)\n",
        "    add_light_color(image,150,2.5)\n",
        "    add_light_color(image,100,3.0)\n",
        "    add_light_color(image,50,4.0)\n",
        "    add_light_color(image,255,0.7)\n",
        "    add_light_color(image,150,0.3)\n",
        "    add_light_color(image,100,0.1)\n",
        "\n",
        "    saturation_image(image,50)\n",
        "    saturation_image(image,100)\n",
        "    saturation_image(image,150)\n",
        "    saturation_image(image,200)\n",
        "\n",
        "    hue_image(image,50)\n",
        "    hue_image(image,100)\n",
        "    hue_image(image,150)\n",
        "    hue_image(image,200)\n"
      ],
      "metadata": {
        "id": "RLznGfeuOF6Z"
      },
      "execution_count": null,
      "outputs": []
    },
    {
      "cell_type": "code",
      "execution_count": null,
      "metadata": {
        "colab": {
          "base_uri": "https://localhost:8080/"
        },
        "id": "KvyC1D6PqJs2",
        "outputId": "80e31e69-0f57-4ef6-b067-02dba8aff00d"
      },
      "outputs": [
        {
          "output_type": "stream",
          "name": "stdout",
          "text": [
            "  adding: content/Augmented-full/ (stored 0%)\n",
            "  adding: content/Augmented-full/light_color-2.5.jpg (deflated 1%)\n",
            "  adding: content/Augmented-full/light_color-3.0.jpg (deflated 1%)\n",
            "  adding: content/Augmented-full/padd-00*1000.jpg (deflated 2%)\n",
            "  adding: content/Augmented-full/invert-200.jpg (deflated 2%)\n",
            "  adding: content/Augmented-full/light-4.0.jpg (deflated 1%)\n",
            "  adding: content/Augmented-full/dark-0.3.jpg (deflated 1%)\n",
            "  adding: content/Augmented-full/Resize-450*400.jpg (deflated 0%)\n",
            "  adding: content/Augmented-full/saturation-50.jpg (deflated 2%)\n",
            "  adding: content/Augmented-full/light-1.5.jpg (deflated 3%)\n",
            "  adding: content/Augmented-full/Crop-0350*0300.jpg (deflated 6%)\n",
            "  adding: content/Augmented-full/flip-0.jpg (deflated 1%)\n",
            "  adding: content/Augmented-full/flip--1.jpg (deflated 1%)\n",
            "  adding: content/Augmented-full/invert-50.jpg (deflated 1%)\n",
            "  adding: content/Augmented-full/hue-100.jpg (deflated 1%)\n",
            "  adding: content/Augmented-full/hue-150.jpg (deflated 1%)\n",
            "  adding: content/Augmented-full/Crop-0350*100400.jpg (deflated 2%)\n",
            "  adding: content/Augmented-full/light_color-4.0.jpg (deflated 1%)\n",
            "  adding: content/Augmented-full/dark-0.4.jpg (deflated 1%)\n",
            "  adding: content/Augmented-full/saturation-200.jpg (deflated 1%)\n",
            "  adding: content/Augmented-full/invert-255.jpg (deflated 6%)\n",
            "  adding: content/Augmented-full/Crop-100450*0300.jpg (deflated 1%)\n",
            "  adding: content/Augmented-full/hue-50.jpg (deflated 1%)\n",
            "  adding: content/Augmented-full/padd-00*0100.jpg (deflated 6%)\n",
            "  adding: content/Augmented-full/light-3.0.jpg (deflated 1%)\n",
            "  adding: content/Augmented-full/invert-100.jpg (deflated 1%)\n",
            "  adding: content/Augmented-full/padd-1000*00.jpg (deflated 3%)\n",
            "  adding: content/Augmented-full/light_color-1.5.jpg (deflated 3%)\n",
            "  adding: content/Augmented-full/saturation-150.jpg (deflated 1%)\n",
            "  adding: content/Augmented-full/light-2.0.jpg (deflated 2%)\n",
            "  adding: content/Augmented-full/invert-150.jpg (deflated 2%)\n",
            "  adding: content/Augmented-full/dark_color0.3.jpg (deflated 1%)\n",
            "  adding: content/Augmented-full/dark_color0.1.jpg (deflated 1%)\n",
            "  adding: content/Augmented-full/Crop-100450*100400.jpg (deflated 2%)\n",
            "  adding: content/Augmented-full/dark-0.7.jpg (deflated 3%)\n",
            "  adding: content/Augmented-full/light-2.5.jpg (deflated 2%)\n",
            "  adding: content/Augmented-full/hue-200.jpg (deflated 1%)\n",
            "  adding: content/Augmented-full/dark-0.1.jpg (deflated 2%)\n",
            "  adding: content/Augmented-full/flip-1.jpg (deflated 6%)\n",
            "  adding: content/Augmented-full/dark_color0.7.jpg (deflated 3%)\n",
            "  adding: content/Augmented-full/saturation-100.jpg (deflated 1%)\n",
            "  adding: content/Augmented-full/light-5.0.jpg (deflated 1%)\n",
            "  adding: content/Augmented-full/light_color-2.0.jpg (deflated 1%)\n",
            "  adding: content/Augmented-full/padd-0100*00.jpg (deflated 8%)\n",
            "  adding: content/Augmented-full/padd-100100*100100.jpg (deflated 6%)\n",
            "  adding: content/Augmented-full/Crop-100350*100300.jpg (deflated 2%)\n"
          ]
        }
      ],
      "source": [
        "!zip -r /content/Augmented-output-full-final.zip /content/Augmented-full-final"
      ]
    },
    {
      "cell_type": "code",
      "execution_count": null,
      "metadata": {
        "colab": {
          "base_uri": "https://localhost:8080/",
          "height": 17
        },
        "id": "ON_TagYdqJs3",
        "outputId": "8310fb3c-5cb4-43b9-c380-568b9a1ed156"
      },
      "outputs": [
        {
          "output_type": "display_data",
          "data": {
            "application/javascript": [
              "\n",
              "    async function download(id, filename, size) {\n",
              "      if (!google.colab.kernel.accessAllowed) {\n",
              "        return;\n",
              "      }\n",
              "      const div = document.createElement('div');\n",
              "      const label = document.createElement('label');\n",
              "      label.textContent = `Downloading \"${filename}\": `;\n",
              "      div.appendChild(label);\n",
              "      const progress = document.createElement('progress');\n",
              "      progress.max = size;\n",
              "      div.appendChild(progress);\n",
              "      document.body.appendChild(div);\n",
              "\n",
              "      const buffers = [];\n",
              "      let downloaded = 0;\n",
              "\n",
              "      const channel = await google.colab.kernel.comms.open(id);\n",
              "      // Send a message to notify the kernel that we're ready.\n",
              "      channel.send({})\n",
              "\n",
              "      for await (const message of channel.messages) {\n",
              "        // Send a message to notify the kernel that we're ready.\n",
              "        channel.send({})\n",
              "        if (message.buffers) {\n",
              "          for (const buffer of message.buffers) {\n",
              "            buffers.push(buffer);\n",
              "            downloaded += buffer.byteLength;\n",
              "            progress.value = downloaded;\n",
              "          }\n",
              "        }\n",
              "      }\n",
              "      const blob = new Blob(buffers, {type: 'application/binary'});\n",
              "      const a = document.createElement('a');\n",
              "      a.href = window.URL.createObjectURL(blob);\n",
              "      a.download = filename;\n",
              "      div.appendChild(a);\n",
              "      a.click();\n",
              "      div.remove();\n",
              "    }\n",
              "  "
            ],
            "text/plain": [
              "<IPython.core.display.Javascript object>"
            ]
          },
          "metadata": {}
        },
        {
          "output_type": "display_data",
          "data": {
            "application/javascript": [
              "download(\"download_5fcbc680-f25f-4f8a-bc2b-95c06b30b5bb\", \"Augmented-output-full.zip\", 1235998)"
            ],
            "text/plain": [
              "<IPython.core.display.Javascript object>"
            ]
          },
          "metadata": {}
        }
      ],
      "source": [
        "from google.colab import files\n",
        "files.download(\"/content/Augmented-output-full-final.zip\")"
      ]
    },
    {
      "cell_type": "code",
      "execution_count": null,
      "metadata": {
        "id": "_LGZnKNOqJs3"
      },
      "outputs": [],
      "source": [
        ""
      ]
    },
    {
      "cell_type": "code",
      "execution_count": null,
      "metadata": {
        "id": "dHGP1yWdqJs4"
      },
      "outputs": [],
      "source": [
        ""
      ]
    },
    {
      "cell_type": "code",
      "execution_count": null,
      "metadata": {
        "id": "1Orv9gQWqJs4"
      },
      "outputs": [],
      "source": [
        ""
      ]
    },
    {
      "cell_type": "code",
      "execution_count": null,
      "metadata": {
        "id": "njiW89tGqJs5"
      },
      "outputs": [],
      "source": [
        ""
      ]
    },
    {
      "cell_type": "code",
      "execution_count": null,
      "metadata": {
        "id": "IwHRlzRlqJs5"
      },
      "outputs": [],
      "source": [
        ""
      ]
    },
    {
      "cell_type": "code",
      "execution_count": null,
      "metadata": {
        "id": "vyC-Dy6vqJs6"
      },
      "outputs": [],
      "source": [
        ""
      ]
    }
  ],
  "metadata": {
    "kernelspec": {
      "display_name": "Python 3",
      "language": "python",
      "name": "python3"
    },
    "language_info": {
      "codemirror_mode": {
        "name": "ipython",
        "version": 3
      },
      "file_extension": ".py",
      "mimetype": "text/x-python",
      "name": "python",
      "nbconvert_exporter": "python",
      "pygments_lexer": "ipython3",
      "version": "3.5.5"
    },
    "colab": {
      "name": "Augmentation_scripts_Allianz_Karan.ipynb",
      "provenance": [],
      "collapsed_sections": []
    },
    "accelerator": "GPU"
  },
  "nbformat": 4,
  "nbformat_minor": 0
}